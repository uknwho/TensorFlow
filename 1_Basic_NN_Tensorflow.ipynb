{
 "cells": [
  {
   "cell_type": "markdown",
   "metadata": {},
   "source": [
    "# Introduction to TensorFlow and Keras."
   ]
  },
  {
   "cell_type": "code",
   "execution_count": 24,
   "metadata": {
    "ExecuteTime": {
     "end_time": "2020-11-12T13:59:55.066300Z",
     "start_time": "2020-11-12T13:59:54.961834Z"
    }
   },
   "outputs": [],
   "source": [
    "import tensorflow as tf"
   ]
  },
  {
   "cell_type": "code",
   "execution_count": 45,
   "metadata": {
    "ExecuteTime": {
     "end_time": "2020-11-12T14:33:49.659884Z",
     "start_time": "2020-11-12T14:33:49.651838Z"
    }
   },
   "outputs": [],
   "source": [
    "import os\n",
    "import numpy as np\n",
    "import pandas as pd\n",
    "import matplotlib.pyplot as plt"
   ]
  },
  {
   "cell_type": "markdown",
   "metadata": {
    "ExecuteTime": {
     "end_time": "2020-11-10T19:58:41.610177Z",
     "start_time": "2020-11-10T19:58:41.602181Z"
    }
   },
   "source": [
    "* Importing the Fashion MNIST Data Set"
   ]
  },
  {
   "cell_type": "code",
   "execution_count": 3,
   "metadata": {
    "ExecuteTime": {
     "end_time": "2020-11-12T13:56:20.852080Z",
     "start_time": "2020-11-12T13:56:18.606347Z"
    }
   },
   "outputs": [],
   "source": [
    "df = tf.keras.datasets.fashion_mnist\n",
    "(xtrain, ytrain), (xtest, ytest) = df.load_data()"
   ]
  },
  {
   "cell_type": "code",
   "execution_count": 4,
   "metadata": {
    "ExecuteTime": {
     "end_time": "2020-11-12T13:56:20.868078Z",
     "start_time": "2020-11-12T13:56:20.852080Z"
    }
   },
   "outputs": [
    {
     "data": {
      "text/plain": [
       "(60000, 28, 28)"
      ]
     },
     "execution_count": 4,
     "metadata": {},
     "output_type": "execute_result"
    }
   ],
   "source": [
    "xtrain.shape"
   ]
  },
  {
   "cell_type": "markdown",
   "metadata": {},
   "source": [
    "* Extracting Validation data"
   ]
  },
  {
   "cell_type": "code",
   "execution_count": 6,
   "metadata": {
    "ExecuteTime": {
     "end_time": "2020-11-12T13:56:21.530326Z",
     "start_time": "2020-11-12T13:56:21.518416Z"
    }
   },
   "outputs": [],
   "source": [
    "X_val, X_train = xtrain[:4000], xtrain[4000:]\n",
    "y_val, y_train = ytrain[:4000], ytrain[4000:]"
   ]
  },
  {
   "cell_type": "code",
   "execution_count": 7,
   "metadata": {
    "ExecuteTime": {
     "end_time": "2020-11-12T13:56:23.701851Z",
     "start_time": "2020-11-12T13:56:21.530326Z"
    }
   },
   "outputs": [
    {
     "data": {
      "image/png": "[encoded data removed]",
      "text/plain": [
       "<Figure size 432x288 with 1 Axes>"
      ]
     },
     "metadata": {
      "needs_background": "light"
     },
     "output_type": "display_data"
    }
   ],
   "source": [
    "plt.imshow(X_train[0], cmap=\"binary\")\n",
    "plt.show()"
   ]
  },
  {
   "cell_type": "code",
   "execution_count": 8,
   "metadata": {
    "ExecuteTime": {
     "end_time": "2020-11-12T13:56:23.743384Z",
     "start_time": "2020-11-12T13:56:23.717848Z"
    }
   },
   "outputs": [
    {
     "data": {
      "text/plain": [
       "9"
      ]
     },
     "execution_count": 8,
     "metadata": {},
     "output_type": "execute_result"
    }
   ],
   "source": [
    "ytrain[0]"
   ]
  },
  {
   "cell_type": "markdown",
   "metadata": {},
   "source": [
    "# Model Building"
   ]
  },
  {
   "cell_type": "markdown",
   "metadata": {},
   "source": [
    "* Sequential Model with \n",
    "* input layer will accept the image and flatten it to 784*1 array\n",
    "* 3 hidden layers with 'relu' as activation Function.\n",
    "* output layer will have 10 nodes for each class."
   ]
  },
  {
   "cell_type": "code",
   "execution_count": 47,
   "metadata": {
    "ExecuteTime": {
     "end_time": "2020-11-12T15:04:09.394025Z",
     "start_time": "2020-11-12T15:04:09.386024Z"
    }
   },
   "outputs": [],
   "source": [
    "# Intializing the model\n",
    "\n",
    "model = tf.keras.models.Sequential()"
   ]
  },
  {
   "cell_type": "markdown",
   "metadata": {},
   "source": [
    "* Architecture of the Network"
   ]
  },
  {
   "cell_type": "code",
   "execution_count": 48,
   "metadata": {
    "ExecuteTime": {
     "end_time": "2020-11-12T15:04:09.739497Z",
     "start_time": "2020-11-12T15:04:09.394025Z"
    }
   },
   "outputs": [],
   "source": [
    "# Input Layer ensure that the input shape matches the features of the data set\n",
    "model.add(tf.keras.layers.Flatten(input_shape=[28,28]))\n",
    "\n",
    "# Hidden layers (Dense means every node in the present layer is connected to the every node in the previous Layers) \n",
    "model.add(tf.keras.layers.Dense(300, activation='relu'))\n",
    "model.add(tf.keras.layers.Dense(150, activation='relu'))\n",
    "#model.add(tf.keras.layers.Dense(60, activation='relu'))\n",
    "\n",
    "# Output layer with number of node equal to the classes in the target feature. Softmax(mutli class), sigmoid (Binary class) \n",
    "model.add(tf.keras.layers.Dense(10, activation='softmax'))"
   ]
  },
  {
   "cell_type": "code",
   "execution_count": 49,
   "metadata": {
    "ExecuteTime": {
     "end_time": "2020-11-12T15:04:09.779485Z",
     "start_time": "2020-11-12T15:04:09.747493Z"
    }
   },
   "outputs": [
    {
     "name": "stdout",
     "output_type": "stream",
     "text": [
      "Model: \"sequential_3\"\n",
      "_________________________________________________________________\n",
      "Layer (type)                 Output Shape              Param #   \n",
      "=================================================================\n",
      "flatten_3 (Flatten)          (None, 784)               0         \n",
      "_________________________________________________________________\n",
      "dense_12 (Dense)             (None, 300)               235500    \n",
      "_________________________________________________________________\n",
      "dense_13 (Dense)             (None, 150)               45150     \n",
      "_________________________________________________________________\n",
      "dense_14 (Dense)             (None, 10)                1510      \n",
      "=================================================================\n",
      "Total params: 282,160\n",
      "Trainable params: 282,160\n",
      "Non-trainable params: 0\n",
      "_________________________________________________________________\n"
     ]
    }
   ],
   "source": [
    "# To check the details of the Network\n",
    "\n",
    "model.summary()"
   ]
  },
  {
   "cell_type": "code",
   "execution_count": 50,
   "metadata": {
    "ExecuteTime": {
     "end_time": "2020-11-12T15:04:10.075483Z",
     "start_time": "2020-11-12T15:04:09.779485Z"
    }
   },
   "outputs": [],
   "source": [
    "# Compiling the model\n",
    "# Loss, here it is multi class but the target varaiable is (0-9) encoded so \"sparse_categorical_crossentropy\", \n",
    "# one-hot encoded then 'categorical_crossentropy'\n",
    "# Optimizer, SGD, ADAM, RMSPROP\n",
    "# Metrics - Classification : accuracy, if classes are imbalanced the use F1 score\n",
    "\n",
    "model.compile(loss='sparse_categorical_crossentropy', optimizer = tf.keras.optimizers.SGD(lr=1e-3), metrics=['accuracy'])"
   ]
  },
  {
   "cell_type": "code",
   "execution_count": 51,
   "metadata": {
    "ExecuteTime": {
     "end_time": "2020-11-12T15:08:40.679373Z",
     "start_time": "2020-11-12T15:04:10.083507Z"
    }
   },
   "outputs": [
    {
     "name": "stdout",
     "output_type": "stream",
     "text": [
      "Train on 56000 samples, validate on 4000 samples\n",
      "Epoch 1/10\n",
      "56000/56000 [==============================] - 25s 453us/sample - loss: 3.0590 - acc: 0.6697 - val_loss: 0.7374 - val_acc: 0.7207\n",
      "Epoch 2/10\n",
      "56000/56000 [==============================] - 24s 431us/sample - loss: 0.6680 - acc: 0.7234 - val_loss: 0.6922 - val_acc: 0.73356698 - a - ETA: 1s -\n",
      "Epoch 3/10\n",
      "56000/56000 [==============================] - 37s 660us/sample - loss: 0.6050 - acc: 0.7441 - val_loss: 0.6429 - val_acc: 0.7595\n",
      "Epoch 4/10\n",
      "56000/56000 [==============================] - 33s 583us/sample - loss: 0.5538 - acc: 0.7747 - val_loss: 0.6090 - val_acc: 0.7837\n",
      "Epoch 5/10\n",
      "56000/56000 [==============================] - 27s 485us/sample - loss: 0.5124 - acc: 0.7967 - val_loss: 0.5890 - val_acc: 0.7952 loss: 0\n",
      "Epoch 6/10\n",
      "56000/56000 [==============================] - 25s 444us/sample - loss: 0.4861 - acc: 0.8076 - val_loss: 0.5662 - val_acc: 0.7757\n",
      "Epoch 7/10\n",
      "56000/56000 [==============================] - 23s 417us/sample - loss: 0.4622 - acc: 0.8152 - val_loss: 0.5384 - val_acc: 0.8098 loss: 0.4633 - E - ETA: \n",
      "Epoch 8/10\n",
      "56000/56000 [==============================] - 24s 429us/sample - loss: 0.4463 - acc: 0.8217 - val_loss: 0.5341 - val_acc: 0.8050\n",
      "Epoch 9/10\n",
      "56000/56000 [==============================] - 25s 449us/sample - loss: 0.4293 - acc: 0.8316 - val_loss: 0.5347 - val_acc: 0.8055 ETA: 9s - - ETA: 7s -  - ETA: 0s - loss: 0.4294 - ac\n",
      "Epoch 10/10\n",
      "56000/56000 [==============================] - 26s 472us/sample - loss: 0.4140 - acc: 0.8417 - val_loss: 0.5094 - val_acc: 0.8245\n"
     ]
    }
   ],
   "source": [
    "# Training the model\n",
    "# Epochs : no of times the whole dataset should go through the forward and backward propagtion in the network\n",
    "# Batch size : no of observations to send into the network \n",
    "# Using the \"history\" varaible to keep track of training points\n",
    "\n",
    "history = model.fit(X_train, y_train, validation_data=(X_val, y_val), epochs=10)"
   ]
  },
  {
   "cell_type": "code",
   "execution_count": 52,
   "metadata": {
    "ExecuteTime": {
     "end_time": "2020-11-12T15:08:41.033162Z",
     "start_time": "2020-11-12T15:08:40.687397Z"
    }
   },
   "outputs": [
    {
     "data": {
      "text/plain": [
       "<AxesSubplot:>"
      ]
     },
     "execution_count": 52,
     "metadata": {},
     "output_type": "execute_result"
    },
    {
     "data": {
      "image/png": "[encoded data removed]",
      "text/plain": [
       "<Figure size 432x288 with 1 Axes>"
      ]
     },
     "metadata": {
      "needs_background": "light"
     },
     "output_type": "display_data"
    }
   ],
   "source": [
    "# Plotting the training graphs using history\n",
    "pd.DataFrame(history.history).plot()"
   ]
  },
  {
   "cell_type": "code",
   "execution_count": 53,
   "metadata": {
    "ExecuteTime": {
     "end_time": "2020-11-12T15:08:43.641537Z",
     "start_time": "2020-11-12T15:08:41.036715Z"
    }
   },
   "outputs": [
    {
     "name": "stdout",
     "output_type": "stream",
     "text": [
      "10000/10000 [==============================] - 3s 258us/sample - loss: 0.4993 - acc: 0.8255s - loss: 0.5175 - acc: 0 - ETA: 0s - loss: 0.5056 - acc:  - ETA: 0s - loss: 0.5013 - acc: 0.\n"
     ]
    },
    {
     "data": {
      "text/plain": [
       "[0.4992628507614136, 0.8255]"
      ]
     },
     "execution_count": 53,
     "metadata": {},
     "output_type": "execute_result"
    }
   ],
   "source": [
    "# Checking the scores on the test data.\n",
    "model.evaluate(xtest, ytest)"
   ]
  },
  {
   "cell_type": "code",
   "execution_count": 54,
   "metadata": {
    "ExecuteTime": {
     "end_time": "2020-11-12T15:08:43.657538Z",
     "start_time": "2020-11-12T15:08:43.641537Z"
    }
   },
   "outputs": [],
   "source": [
    "# Understanding the Format of predictions done by the Network"
   ]
  },
  {
   "cell_type": "code",
   "execution_count": 55,
   "metadata": {
    "ExecuteTime": {
     "end_time": "2020-11-12T15:08:43.825549Z",
     "start_time": "2020-11-12T15:08:43.673536Z"
    }
   },
   "outputs": [],
   "source": [
    "x_new = xtest[:3]\n",
    "y_new = ytest[:3]"
   ]
  },
  {
   "cell_type": "code",
   "execution_count": 56,
   "metadata": {
    "ExecuteTime": {
     "end_time": "2020-11-12T15:08:44.154115Z",
     "start_time": "2020-11-12T15:08:43.833540Z"
    }
   },
   "outputs": [
    {
     "data": {
      "text/plain": [
       "array([2.0017187e-10, 1.6186527e-14, 1.5063601e-11, 6.9163843e-18,\n",
       "       4.6543411e-13, 5.4708093e-05, 1.6514710e-08, 2.7100777e-02,\n",
       "       5.2539599e-09, 9.7284442e-01], dtype=float32)"
      ]
     },
     "execution_count": 56,
     "metadata": {},
     "output_type": "execute_result"
    }
   ],
   "source": [
    "model.predict(x_new)[0]"
   ]
  },
  {
   "cell_type": "code",
   "execution_count": 57,
   "metadata": {
    "ExecuteTime": {
     "end_time": "2020-11-12T15:08:44.258129Z",
     "start_time": "2020-11-12T15:08:44.154115Z"
    }
   },
   "outputs": [
    {
     "data": {
      "text/plain": [
       "array([[0., 0., 0., 0., 0., 0., 0., 0., 0., 1.],\n",
       "       [0., 0., 1., 0., 0., 0., 0., 0., 0., 0.],\n",
       "       [0., 1., 0., 0., 0., 0., 0., 0., 0., 0.]], dtype=float32)"
      ]
     },
     "execution_count": 57,
     "metadata": {},
     "output_type": "execute_result"
    }
   ],
   "source": [
    "np.round(model.predict(x_new))"
   ]
  },
  {
   "cell_type": "code",
   "execution_count": 58,
   "metadata": {
    "ExecuteTime": {
     "end_time": "2020-11-12T15:08:44.434118Z",
     "start_time": "2020-11-12T15:08:44.266117Z"
    }
   },
   "outputs": [
    {
     "data": {
      "text/plain": [
       "array([9, 2, 1], dtype=uint8)"
      ]
     },
     "execution_count": 58,
     "metadata": {},
     "output_type": "execute_result"
    }
   ],
   "source": [
    "y_new"
   ]
  },
  {
   "cell_type": "code",
   "execution_count": 59,
   "metadata": {
    "ExecuteTime": {
     "end_time": "2020-11-12T15:08:44.626123Z",
     "start_time": "2020-11-12T15:08:44.434118Z"
    }
   },
   "outputs": [
    {
     "data": {
      "text/plain": [
       "array([9, 2, 1], dtype=int64)"
      ]
     },
     "execution_count": 59,
     "metadata": {},
     "output_type": "execute_result"
    }
   ],
   "source": [
    "# Classes Predicted.\n",
    "np.argmax(model.predict(x_new), axis=1)"
   ]
  },
  {
   "cell_type": "code",
   "execution_count": 60,
   "metadata": {
    "ExecuteTime": {
     "end_time": "2020-11-12T15:08:44.738714Z",
     "start_time": "2020-11-12T15:08:44.634120Z"
    }
   },
   "outputs": [
    {
     "data": {
      "text/plain": [
       "array([0.9728444 , 0.92349076, 1.        ], dtype=float32)"
      ]
     },
     "execution_count": 60,
     "metadata": {},
     "output_type": "execute_result"
    }
   ],
   "source": [
    "# probablities with which the Prediction has been made.\n",
    "np.max(model.predict(x_new), axis=1)"
   ]
  },
  {
   "cell_type": "code",
   "execution_count": 61,
   "metadata": {
    "ExecuteTime": {
     "end_time": "2020-11-12T15:08:44.874552Z",
     "start_time": "2020-11-12T15:08:44.745203Z"
    }
   },
   "outputs": [
    {
     "data": {
      "text/plain": [
       "array([9, 2, 1], dtype=int64)"
      ]
     },
     "execution_count": 61,
     "metadata": {},
     "output_type": "execute_result"
    }
   ],
   "source": [
    "model.predict_classes(x_new)"
   ]
  },
  {
   "cell_type": "markdown",
   "metadata": {
    "ExecuteTime": {
     "end_time": "2020-11-12T15:08:44.997686Z",
     "start_time": "2020-11-12T15:08:44.885235Z"
    }
   },
   "source": [
    "# Scaling the data"
   ]
  },
  {
   "cell_type": "code",
   "execution_count": 63,
   "metadata": {
    "ExecuteTime": {
     "end_time": "2020-11-12T15:08:45.144798Z",
     "start_time": "2020-11-12T15:08:44.997686Z"
    }
   },
   "outputs": [],
   "source": [
    "from sklearn.preprocessing import StandardScaler\n",
    "\n",
    "ss = StandardScaler()"
   ]
  },
  {
   "cell_type": "code",
   "execution_count": 64,
   "metadata": {
    "ExecuteTime": {
     "end_time": "2020-11-12T15:08:46.897196Z",
     "start_time": "2020-11-12T15:08:45.152800Z"
    }
   },
   "outputs": [],
   "source": [
    "x_train_scaled = ss.fit_transform(X_train.astype(np.float32).reshape(-1,28*28)).reshape(-1,28,28)\n",
    "x_val_scaled = ss.transform(X_val.astype(np.float32).reshape(-1,28*28)).reshape(-1,28,28)\n",
    "x_test_scaled = ss.transform(xtest.astype(np.float32).reshape(-1,28*28)).reshape(-1,28,28)"
   ]
  },
  {
   "cell_type": "code",
   "execution_count": 67,
   "metadata": {
    "ExecuteTime": {
     "end_time": "2020-11-12T15:08:47.311960Z",
     "start_time": "2020-11-12T15:08:47.070258Z"
    }
   },
   "outputs": [],
   "source": [
    "# Initializying the Model\n",
    "model2 = tf.keras.models.Sequential()\n",
    "# Input Layer\n",
    "model2.add(tf.keras.layers.Flatten(input_shape = (28,28)))\n",
    "# Hidden Layers\n",
    "model2.add(tf.keras.layers.Dense(300, activation='relu'))\n",
    "model2.add(tf.keras.layers.Dense(150, activation='relu'))\n",
    "#model2.add(tf.keras.layers.Dense(60, activation='relu'))\n",
    "# Output Layer\n",
    "model2.add(tf.keras.layers.Dense(10, activation='softmax'))\n",
    "# Compiler\n",
    "model2.compile(loss='sparse_categorical_crossentropy', \n",
    "               optimizer = tf.keras.optimizers.SGD(lr = 1e-3), metrics=['accuracy'])"
   ]
  },
  {
   "cell_type": "code",
   "execution_count": 70,
   "metadata": {
    "ExecuteTime": {
     "end_time": "2020-11-12T15:13:23.818999Z",
     "start_time": "2020-11-12T15:08:47.619926Z"
    }
   },
   "outputs": [
    {
     "name": "stdout",
     "output_type": "stream",
     "text": [
      "Train on 56000 samples, validate on 4000 samples\n",
      "Epoch 1/10\n",
      "56000/56000 [==============================] - 29s 526us/sample - loss: 0.9433 - acc: 0.6924 - val_loss: 0.6431 - val_acc: 0.7768- acc: 0.64 - ETA: 10s -  - ETA: 6s - loss: 1.02 - ETA: 5s - loss: 1.0096 - ac - ETA: 4s - loss: 1.0013 - ac - ETA: 4s - l\n",
      "Epoch 2/10\n",
      "56000/56000 [==============================] - 27s 481us/sample - loss: 0.5771 - acc: 0.7977 - val_loss: 0.5399 - val_acc: 0.8140\n",
      "Epoch 3/10\n",
      "56000/56000 [==============================] - 29s 519us/sample - loss: 0.5040 - acc: 0.8222 - val_loss: 0.4929 - val_acc: 0.8290\n",
      "Epoch 4/10\n",
      "56000/56000 [==============================] - 29s 522us/sample - loss: 0.4648 - acc: 0.8360 - val_loss: 0.4634 - val_acc: 0.8360s - loss: 0.4657 - a - ETA: 0s - loss: 0.4650 - ac - ETA: 0s - loss: 0.4646 - acc: 0.8\n",
      "Epoch 5/10\n",
      "56000/56000 [==============================] - 27s 481us/sample - loss: 0.4388 - acc: 0.8440 - val_loss: 0.4450 - val_acc: 0.8432\n",
      "Epoch 6/10\n",
      "56000/56000 [==============================] - 26s 464us/sample - loss: 0.4198 - acc: 0.8513 - val_loss: 0.4295 - val_acc: 0.8478s: 0.4167 - acc: 0.85 - ETA: 10s - loss: 0.4169 - acc - ETA: 10s - loss: 0.4170 - acc: 0. - ETA: 10s - loss: 0.4 - ET - ETA: 7s  - ETA: 6s - loss: 0.4167 - acc: - - ETA: 3s - loss:  - ETA: 0s - loss: 0.4197 - acc: 0.\n",
      "Epoch 7/10\n",
      "56000/56000 [==============================] - 28s 494us/sample - loss: 0.4049 - acc: 0.8565 - val_loss: 0.4183 - val_acc: 0.8512ss: 0.4\n",
      "Epoch 8/10\n",
      "56000/56000 [==============================] - 27s 478us/sample - loss: 0.3925 - acc: 0.8606 - val_loss: 0.4077 - val_acc: 0.8553s: 0.3932 - \n",
      "Epoch 9/10\n",
      "56000/56000 [==============================] - 27s 488us/sample - loss: 0.3820 - acc: 0.8639 - val_loss: 0.4020 - val_acc: 0.8545- l - ETA: 4s - loss: 0.3809 - acc:  - ETA: 3s - loss: 0.3808 - a - ETA: 3s -  - ETA: 1s - loss: - ETA: 0s - loss: 0.3813 - acc: 0.86 - ETA: 0s - loss: 0.3813 - acc:\n",
      "Epoch 10/10\n",
      "56000/56000 [==============================] - 26s 467us/sample - loss: 0.3730 - acc: 0.8673 - val_loss: 0.3959 - val_acc: 0.8593\n"
     ]
    }
   ],
   "source": [
    "history = model2.fit(x_train_scaled, y_train, epochs=10, validation_data=(x_val_scaled, y_val))"
   ]
  },
  {
   "cell_type": "code",
   "execution_count": 71,
   "metadata": {
    "ExecuteTime": {
     "end_time": "2020-11-12T15:13:24.249193Z",
     "start_time": "2020-11-12T15:13:23.819598Z"
    }
   },
   "outputs": [
    {
     "data": {
      "text/plain": [
       "<AxesSubplot:>"
      ]
     },
     "execution_count": 71,
     "metadata": {},
     "output_type": "execute_result"
    },
    {
     "data": {
      "image/png": "[encoded data removed]",
      "text/plain": [
       "<Figure size 432x288 with 1 Axes>"
      ]
     },
     "metadata": {
      "needs_background": "light"
     },
     "output_type": "display_data"
    }
   ],
   "source": [
    "pd.DataFrame(history.history).plot()"
   ]
  },
  {
   "cell_type": "markdown",
   "metadata": {
    "ExecuteTime": {
     "end_time": "2020-11-12T15:13:24.257193Z",
     "start_time": "2020-11-12T15:13:24.249193Z"
    }
   },
   "source": [
    "# Callbacks"
   ]
  },
  {
   "cell_type": "code",
   "execution_count": 74,
   "metadata": {
    "ExecuteTime": {
     "end_time": "2020-11-12T15:14:02.126852Z",
     "start_time": "2020-11-12T15:14:01.998501Z"
    }
   },
   "outputs": [],
   "source": [
    "model = tf.keras.models.Sequential([\n",
    "    tf.keras.layers.Flatten(input_shape=(28,28)),\n",
    "    tf.keras.layers.Dense(300, activation='relu'),\n",
    "    tf.keras.layers.Dense(150, activation='relu'),\n",
    "    tf.keras.layers.Dense(10, activation='softmax')\n",
    "    \n",
    "])"
   ]
  },
  {
   "cell_type": "code",
   "execution_count": 78,
   "metadata": {
    "ExecuteTime": {
     "end_time": "2020-11-13T10:14:05.957151Z",
     "start_time": "2020-11-12T15:15:03.367202Z"
    }
   },
   "outputs": [
    {
     "name": "stdout",
     "output_type": "stream",
     "text": [
      "Train on 56000 samples, validate on 4000 samples\n",
      "Epoch 1/50\n",
      "56000/56000 [==============================] - 25s 440us/sample - loss: 0.9633 - acc: 0.6836 - val_loss: 0.6592 - val_acc: 0.7790ss: 0.973\n",
      "Epoch 2/50\n",
      "56000/56000 [==============================] - 25s 448us/sample - loss: 0.5883 - acc: 0.7950 - val_loss: 0.5521 - val_acc: 0.8115\n",
      "Epoch 3/50\n",
      "56000/56000 [==============================] - 26s 462us/sample - loss: 0.5128 - acc: 0.8180 - val_loss: 0.5028 - val_acc: 0.8292: 0.513 - ET\n",
      "Epoch 4/50\n",
      "56000/56000 [==============================] - 25s 454us/sample - loss: 0.4718 - acc: 0.8320 - val_loss: 0.4740 - val_acc: 0.8385s - loss: 0 - ETA: - ETA: 3s - loss - ETA\n",
      "Epoch 5/50\n",
      "56000/56000 [==============================] - 26s 457us/sample - loss: 0.4445 - acc: 0.8415 - val_loss: 0.4541 - val_acc: 0.8455\n",
      "Epoch 6/50\n",
      "56000/56000 [==============================] - 27s 481us/sample - loss: 0.4246 - acc: 0.8487 - val_loss: 0.4397 - val_acc: 0.84950.847 - ETA: 6s - loss: 0.4262 - acc: 0 - ETA: 6s - loss: 0.4254 - - ETA: 5s  - ETA: 4s - lo - ETA: 2s - lo - ETA: 1s - loss:\n",
      "Epoch 7/50\n",
      "56000/56000 [==============================] - 26s 457us/sample - loss: 0.4088 - acc: 0.8551 - val_loss: 0.4276 - val_acc: 0.856295 - - ET - ETA: 1s - los\n",
      "Epoch 8/50\n",
      "56000/56000 [==============================] - 25s 454us/sample - loss: 0.3960 - acc: 0.8602 - val_loss: 0.4176 - val_acc: 0.8585\n",
      "Epoch 9/50\n",
      "56000/56000 [==============================] - 26s 459us/sample - loss: 0.3852 - acc: 0.8636 - val_loss: 0.4107 - val_acc: 0.8600\n",
      "Epoch 10/50\n",
      "56000/56000 [==============================] - 27s 491us/sample - loss: 0.3757 - acc: 0.8669 - val_loss: 0.4039 - val_acc: 0.8610A: 3s - loss: 0.37 - E - ETA: 0s - loss: 0.3\n",
      "Epoch 11/50\n",
      "56000/56000 [==============================] - 26s 462us/sample - loss: 0.3675 - acc: 0.8702 - val_loss: 0.3975 - val_acc: 0.8645- loss: 0.3676 - acc: 0.8 -  - ETA: 2s - loss: 0.3692  - ET\n",
      "Epoch 12/50\n",
      "56000/56000 [==============================] - 29s 513us/sample - loss: 0.3599 - acc: 0.8729 - val_loss: 0.3926 - val_acc: 0.8660- loss: - ETA: - ETA: 3s - loss: 0.3624 - acc: - ETA: 0s - loss: 0.3603 - ac\n",
      "Epoch 13/50\n",
      "56000/56000 [==============================] - 29s 519us/sample - loss: 0.3530 - acc: 0.8759 - val_loss: 0.3883 - val_acc: 0.8658A: 10s -  - ETA: 9s - loss: 0.3517 -  - ETA: 8s - loss: 0.3506 - acc:  - ETA: 8s - loss: 0.3510 - acc:  - ETA: 3s -  - ETA: 1\n",
      "Epoch 14/50\n",
      "56000/56000 [==============================] - 28s 491us/sample - loss: 0.3472 - acc: 0.8777 - val_loss: 0.3832 - val_acc: 0.8677: 0.3489 - acc: 0.876 - ETA:\n",
      "Epoch 15/50\n",
      "56000/56000 [==============================] - 25s 453us/sample - loss: 0.3413 - acc: 0.8801 - val_loss: 0.3795 - val_acc: 0.8700- acc: 0.880 - ETA: 2s - loss: 0.3418 - acc:\n",
      "Epoch 16/50\n",
      "56000/56000 [==============================] - 25s 445us/sample - loss: 0.3361 - acc: 0.8812 - val_loss: 0.3761 - val_acc: 0.87153383 - acc: 0 - ETA: 9s - loss: 0.3386  - ETA: 8s - loss: 0.338 - ETA: 7s - loss: 0.3375 - acc - ETA: - ET - ETA: 3s - loss: - ETA: 2s - loss: 0.3371 - acc: - ETA: \n",
      "Epoch 17/50\n",
      "56000/56000 [==============================] - 24s 424us/sample - loss: 0.3311 - acc: 0.8827 - val_loss: 0.3742 - val_acc: 0.8725\n",
      "Epoch 18/50\n",
      "56000/56000 [==============================] - 23s 408us/sample - loss: 0.3264 - acc: 0.8845 - val_loss: 0.3706 - val_acc: 0.8717\n",
      "Epoch 19/50\n",
      "56000/56000 [==============================] - 23s 419us/sample - loss: 0.3220 - acc: 0.8865 - val_loss: 0.3682 - val_acc: 0.8727ss: 0.3197 - acc: \n",
      "Epoch 20/50\n",
      "56000/56000 [==============================] - 24s 434us/sample - loss: 0.3179 - acc: 0.8878 - val_loss: 0.3669 - val_acc: 0.8733\n",
      "Epoch 21/50\n",
      "56000/56000 [==============================] - 23s 410us/sample - loss: 0.3138 - acc: 0.8889 - val_loss: 0.3643 - val_acc: 0.8745: 0.3137 - acc: 0. - ETA: 2s - loss: 0.3134 - ac - ETA: 1s - loss: 0.3130 - acc: 0 - ETA: 1s - los\n",
      "Epoch 22/50\n",
      "56000/56000 [==============================] - 22s 386us/sample - loss: 0.3100 - acc: 0.8901 - val_loss: 0.3612 - val_acc: 0.8758\n",
      "Epoch 23/50\n",
      "56000/56000 [==============================] - 21s 379us/sample - loss: 0.3062 - acc: 0.8915 - val_loss: 0.3592 - val_acc: 0.8765- ETA: 3\n",
      "Epoch 24/50\n",
      "56000/56000 [==============================] - 23s 402us/sample - loss: 0.3028 - acc: 0.8927 - val_loss: 0.3587 - val_acc: 0.87520.3023 - acc: 0.\n",
      "Epoch 25/50\n",
      "56000/56000 [==============================] - 22s 390us/sample - loss: 0.2994 - acc: 0.8940 - val_loss: 0.3578 - val_acc: 0.8765A: 2s - loss: 0.3005 - acc:  - ETA: 2s - loss: 0.30 - ETA: 1s - loss:\n",
      "Epoch 26/50\n",
      "56000/56000 [==============================] - 22s 391us/sample - loss: 0.2962 - acc: 0.8950 - val_loss: 0.3560 - val_acc: 0.8755.2969 - acc: 0.89 - ETA: 1s - loss: 0.2971 - acc - ETA: 0s - loss: 0.2964 \n",
      "Epoch 27/50\n",
      "56000/56000 [==============================] - 22s 386us/sample - loss: 0.2928 - acc: 0.8970 - val_loss: 0.3547 - val_acc: 0.8767\n",
      "Epoch 28/50\n",
      "56000/56000 [==============================] - 23s 407us/sample - loss: 0.2898 - acc: 0.8974 - val_loss: 0.3523 - val_acc: 0.8770acc: 0 - ETA: 0s - loss: 0.2899 - acc\n",
      "Epoch 29/50\n",
      "56000/56000 [==============================] - 67506s 1s/sample - loss: 0.2869 - acc: 0.8978 - val_loss: 0.3539 - val_acc: 0.8773\n",
      "Epoch 30/50\n",
      "56000/56000 [==============================] - 49s 882us/sample - loss: 0.2840 - acc: 0.8998 - val_loss: 0.3504 - val_acc: 0.8775\n",
      "Epoch 31/50\n",
      "56000/56000 [==============================] - 4s 80us/sample - loss: 0.2812 - acc: 0.9008 - val_loss: 0.3489 - val_acc: 0.8795\n",
      "Epoch 32/50\n",
      "56000/56000 [==============================] - 4s 78us/sample - loss: 0.2785 - acc: 0.9010 - val_loss: 0.3471 - val_acc: 0.8788\n",
      "Epoch 33/50\n",
      "56000/56000 [==============================] - 4s 70us/sample - loss: 0.2758 - acc: 0.9018 - val_loss: 0.3473 - val_acc: 0.8790\n",
      "Epoch 34/50\n",
      "56000/56000 [==============================] - 4s 70us/sample - loss: 0.2730 - acc: 0.9036 - val_loss: 0.3448 - val_acc: 0.8798\n",
      "Epoch 35/50\n",
      "56000/56000 [==============================] - 4s 74us/sample - loss: 0.2704 - acc: 0.9041 - val_loss: 0.3483 - val_acc: 0.8805\n",
      "Epoch 36/50\n",
      "56000/56000 [==============================] - 5s 90us/sample - loss: 0.2681 - acc: 0.9052 - val_loss: 0.3428 - val_acc: 0.8802\n",
      "Epoch 37/50\n",
      "56000/56000 [==============================] - 5s 89us/sample - loss: 0.2656 - acc: 0.9061 - val_loss: 0.3432 - val_acc: 0.8788\n",
      "Epoch 38/50\n",
      "56000/56000 [==============================] - 5s 85us/sample - loss: 0.2632 - acc: 0.9069 - val_loss: 0.3422 - val_acc: 0.8790\n",
      "Epoch 39/50\n",
      "56000/56000 [==============================] - 5s 89us/sample - loss: 0.2608 - acc: 0.9081 - val_loss: 0.3402 - val_acc: 0.8810\n",
      "Epoch 40/50\n",
      "56000/56000 [==============================] - 5s 92us/sample - loss: 0.2585 - acc: 0.9089 - val_loss: 0.3421 - val_acc: 0.8802\n",
      "Epoch 41/50\n",
      "56000/56000 [==============================] - 5s 90us/sample - loss: 0.2562 - acc: 0.9094 - val_loss: 0.3401 - val_acc: 0.8802\n",
      "Epoch 42/50\n",
      "56000/56000 [==============================] - 5s 88us/sample - loss: 0.2540 - acc: 0.9100 - val_loss: 0.3400 - val_acc: 0.8795\n",
      "Epoch 43/50\n",
      "56000/56000 [==============================] - 5s 93us/sample - loss: 0.2516 - acc: 0.9107 - val_loss: 0.3392 - val_acc: 0.8790\n",
      "Epoch 44/50\n",
      "56000/56000 [==============================] - 5s 85us/sample - loss: 0.2496 - acc: 0.9122 - val_loss: 0.3367 - val_acc: 0.8813\n",
      "Epoch 45/50\n",
      "56000/56000 [==============================] - 5s 94us/sample - loss: 0.2474 - acc: 0.9130 - val_loss: 0.3385 - val_acc: 0.8823\n",
      "Epoch 46/50\n",
      "56000/56000 [==============================] - 4s 80us/sample - loss: 0.2452 - acc: 0.9136 - val_loss: 0.3347 - val_acc: 0.8817\n",
      "Epoch 47/50\n",
      "56000/56000 [==============================] - 5s 91us/sample - loss: 0.2432 - acc: 0.9147 - val_loss: 0.3348 - val_acc: 0.8815\n",
      "Epoch 48/50\n",
      "56000/56000 [==============================] - 5s 86us/sample - loss: 0.2412 - acc: 0.9154 - val_loss: 0.3340 - val_acc: 0.8850\n",
      "Epoch 49/50\n",
      "56000/56000 [==============================] - 5s 93us/sample - loss: 0.2392 - acc: 0.9156 - val_loss: 0.3347 - val_acc: 0.8830\n",
      "Epoch 50/50\n",
      "56000/56000 [==============================] - 6s 103us/sample - loss: 0.2370 - acc: 0.9171 - val_loss: 0.3345 - val_acc: 0.8845\n"
     ]
    }
   ],
   "source": [
    "model.compile(loss ='sparse_categorical_crossentropy',\n",
    "             optimizer =tf.keras.optimizers.SGD(lr=1e-3),\n",
    "             metrics=['accuracy'])\n",
    "\n",
    "#logdir = os.path.join(root_logdir, 'run_{}'.format(time.time()))\n",
    "callbacks = [\n",
    "            tf.keras.callbacks.EarlyStopping(patience =3)] \n",
    "\n",
    "history = model.fit(x_train_scaled, y_train, validation_data = (x_val_scaled, y_val), epochs =50,\n",
    "                   callbacks=callbacks)"
   ]
  },
  {
   "cell_type": "code",
   "execution_count": 79,
   "metadata": {
    "ExecuteTime": {
     "end_time": "2020-11-13T10:15:05.049122Z",
     "start_time": "2020-11-13T10:15:03.674130Z"
    }
   },
   "outputs": [
    {
     "data": {
      "text/plain": [
       "<AxesSubplot:>"
      ]
     },
     "execution_count": 79,
     "metadata": {},
     "output_type": "execute_result"
    },
    {
     "data": {
      "image/png": "[encoded data removed]",
      "text/plain": [
       "<Figure size 432x288 with 1 Axes>"
      ]
     },
     "metadata": {
      "needs_background": "light"
     },
     "output_type": "display_data"
    }
   ],
   "source": [
    "pd.DataFrame(history.history).plot()"
   ]
  },
  {
   "cell_type": "code",
   "execution_count": null,
   "metadata": {},
   "outputs": [],
   "source": []
  }
 ],
 "metadata": {
  "kernelspec": {
   "display_name": "Python 3",
   "language": "python",
   "name": "python3"
  },
  "language_info": {
   "codemirror_mode": {
    "name": "ipython",
    "version": 3
   },
   "file_extension": ".py",
   "mimetype": "text/x-python",
   "name": "python",
   "nbconvert_exporter": "python",
   "pygments_lexer": "ipython3",
   "version": "3.7.6"
  }
 },
 "nbformat": 4,
 "nbformat_minor": 4
}
